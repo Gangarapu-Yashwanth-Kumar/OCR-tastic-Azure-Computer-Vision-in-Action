{
 "cells": [
  {
   "cell_type": "code",
   "execution_count": 1,
   "id": "82cd457c",
   "metadata": {},
   "outputs": [
    {
     "name": "stdout",
     "output_type": "stream",
     "text": [
      "Requirement already satisfied: azure-cognitiveservices-vision-computervision in c:\\users\\hp\\anaconda3\\lib\\site-packages (0.9.1)\n",
      "Requirement already satisfied: msrest>=0.6.21 in c:\\users\\hp\\anaconda3\\lib\\site-packages (from azure-cognitiveservices-vision-computervision) (0.7.1)\n",
      "Requirement already satisfied: azure-common~=1.1 in c:\\users\\hp\\anaconda3\\lib\\site-packages (from azure-cognitiveservices-vision-computervision) (1.1.28)\n",
      "Requirement already satisfied: azure-core>=1.24.0 in c:\\users\\hp\\anaconda3\\lib\\site-packages (from msrest>=0.6.21->azure-cognitiveservices-vision-computervision) (1.34.0)\n",
      "Requirement already satisfied: certifi>=2017.4.17 in c:\\users\\hp\\anaconda3\\lib\\site-packages (from msrest>=0.6.21->azure-cognitiveservices-vision-computervision) (2025.1.31)\n",
      "Requirement already satisfied: isodate>=0.6.0 in c:\\users\\hp\\anaconda3\\lib\\site-packages (from msrest>=0.6.21->azure-cognitiveservices-vision-computervision) (0.7.2)\n",
      "Requirement already satisfied: requests-oauthlib>=0.5.0 in c:\\users\\hp\\anaconda3\\lib\\site-packages (from msrest>=0.6.21->azure-cognitiveservices-vision-computervision) (2.0.0)\n",
      "Requirement already satisfied: requests~=2.16 in c:\\users\\hp\\anaconda3\\lib\\site-packages (from msrest>=0.6.21->azure-cognitiveservices-vision-computervision) (2.32.3)\n",
      "Requirement already satisfied: six>=1.11.0 in c:\\users\\hp\\anaconda3\\lib\\site-packages (from azure-core>=1.24.0->msrest>=0.6.21->azure-cognitiveservices-vision-computervision) (1.16.0)\n",
      "Requirement already satisfied: typing-extensions>=4.6.0 in c:\\users\\hp\\anaconda3\\lib\\site-packages (from azure-core>=1.24.0->msrest>=0.6.21->azure-cognitiveservices-vision-computervision) (4.13.0)\n",
      "Requirement already satisfied: charset-normalizer<4,>=2 in c:\\users\\hp\\anaconda3\\lib\\site-packages (from requests~=2.16->msrest>=0.6.21->azure-cognitiveservices-vision-computervision) (3.3.2)\n",
      "Requirement already satisfied: idna<4,>=2.5 in c:\\users\\hp\\anaconda3\\lib\\site-packages (from requests~=2.16->msrest>=0.6.21->azure-cognitiveservices-vision-computervision) (2.10)\n",
      "Requirement already satisfied: urllib3<3,>=1.21.1 in c:\\users\\hp\\anaconda3\\lib\\site-packages (from requests~=2.16->msrest>=0.6.21->azure-cognitiveservices-vision-computervision) (2.2.3)\n",
      "Requirement already satisfied: oauthlib>=3.0.0 in c:\\users\\hp\\anaconda3\\lib\\site-packages (from requests-oauthlib>=0.5.0->msrest>=0.6.21->azure-cognitiveservices-vision-computervision) (3.3.1)\n"
     ]
    }
   ],
   "source": [
    "!pip install azure-cognitiveservices-vision-computervision"
   ]
  },
  {
   "cell_type": "code",
   "execution_count": 2,
   "id": "9be3d61e",
   "metadata": {},
   "outputs": [],
   "source": [
    "import os\n",
    "import sys"
   ]
  },
  {
   "cell_type": "code",
   "execution_count": null,
   "id": "978f8394",
   "metadata": {},
   "outputs": [],
   "source": [
    "from azure.cognitiveservices.vision.computervision import ComputerVisionClient\n",
    "from azure.cognitiveservices.vision.computervision.models import VisualFeatureTypes\n",
    "from msrest.authentication import CognitiveServicesCredentials\n",
    "\n",
    "region=\"eastus\"\n",
    "key='GET YOUR KEY'\n",
    "\n",
    "credentials=CognitiveServicesCredentials(key)\n",
    "client=ComputerVisionClient(\n",
    "  endpoint='ENTER YOUR ENDPOINT',\n",
    "  credentials=credentials\n",
    ")"
   ]
  },
  {
   "cell_type": "markdown",
   "id": "58469cc9",
   "metadata": {},
   "source": [
    "## Text Extraction From **Aadhar Card**"
   ]
  },
  {
   "cell_type": "code",
   "execution_count": 4,
   "id": "cdf94eba",
   "metadata": {},
   "outputs": [],
   "source": [
    "from azure.cognitiveservices.vision.computervision.models import OperationStatusCodes\n",
    "\n",
    "url=r\"C:\\Users\\HP\\A VS Code\\AZURE Python\\ComputerVision\\1.Aadharcard.jpg\"\n",
    "filename=\"1.Aadharcard.jpg\"\n",
    "raw=True\n",
    "numberofCharsInOperationId=36\n",
    "\n",
    "type=\"filename\"\n",
    "if type==\"url\":\n",
    "  rawHttpResponse=client.read(url,language=\"en\",raw=True)\n",
    "else:\n",
    "  read_image= open(url, \"rb\")\n",
    "  rawHttpResponse=client.read_in_stream(read_image,language=\"en\",raw=True)"
   ]
  },
  {
   "cell_type": "code",
   "execution_count": 5,
   "id": "2a1fea3d",
   "metadata": {},
   "outputs": [],
   "source": [
    "import time\n",
    "# Get ID from returned headers\n",
    "operationLocation=rawHttpResponse.headers[\"Operation-Location\"]\n",
    "idLocation=len(operationLocation)-numberofCharsInOperationId\n",
    "operationId=operationLocation[idLocation:]\n",
    "\n",
    "# Poll for result\n",
    "while True:\n",
    "  result=client.get_read_result(operationId)\n",
    "  if result.status not in ['notStarted','running']:\n",
    "    break\n",
    "  time.sleep(1)"
   ]
  },
  {
   "cell_type": "code",
   "execution_count": 6,
   "id": "351a9384",
   "metadata": {},
   "outputs": [
    {
     "data": {
      "text/plain": [
       "<OperationStatusCodes.succeeded: 'succeeded'>"
      ]
     },
     "execution_count": 6,
     "metadata": {},
     "output_type": "execute_result"
    }
   ],
   "source": [
    "result.status"
   ]
  },
  {
   "cell_type": "code",
   "execution_count": 7,
   "id": "0ba8bcef",
   "metadata": {},
   "outputs": [
    {
     "name": "stdout",
     "output_type": "stream",
     "text": [
      "Government of India\n",
      "-\n",
      "3ITET₹\n",
      "Gangarapu Yashwanth Kumar\n",
      "sgő J / DOB : 06/09/2000\n",
      "9332 0263 9806\n",
      "boxpc / Male\n",
      "Ja QR S'E / 6505 XML alDs), 37,00h).\n",
      "Aadhaar is proof of identity, not of citizenship\n",
      "Aadhaar No. Issued: 16/06/2011\n",
      "or date of birth. It should be used with verification (online\n",
      "authentication or scanning of QR code / offline XML).\n",
      "9332 0263 9806\n"
     ]
    }
   ],
   "source": [
    "# Extract and print text\n",
    "if result.status==OperationStatusCodes.succeeded:\n",
    "  for line in result.analyze_result.read_results[0].lines:\n",
    "    print(line.text)"
   ]
  },
  {
   "cell_type": "markdown",
   "id": "91c593c5",
   "metadata": {},
   "source": [
    "## Text Extraction From **Driving License**"
   ]
  },
  {
   "cell_type": "code",
   "execution_count": 8,
   "id": "6e334e32",
   "metadata": {},
   "outputs": [],
   "source": [
    "from azure.cognitiveservices.vision.computervision.models import OperationStatusCodes\n",
    "\n",
    "url=r\"C:\\Users\\HP\\A VS Code\\AZURE Python\\ComputerVision\\3.DrivingLicense.jpg\"\n",
    "filename=\"3.DrivingLicense.jpg\"\n",
    "raw=True\n",
    "numberofCharsInOperationId=36\n",
    "\n",
    "type=\"filename\"\n",
    "if type==\"url\":\n",
    "  rawHttpResponse=client.read(url,language=\"en\",raw=True)\n",
    "else:\n",
    "  read_image= open(url, \"rb\")\n",
    "  rawHttpResponse=client.read_in_stream(read_image,language=\"en\",raw=True)"
   ]
  },
  {
   "cell_type": "code",
   "execution_count": 9,
   "id": "e10c7491",
   "metadata": {},
   "outputs": [],
   "source": [
    "import time\n",
    "operationLocation=rawHttpResponse.headers[\"Operation-Location\"]\n",
    "idLocation=len(operationLocation)-numberofCharsInOperationId\n",
    "operationId=operationLocation[idLocation:]\n",
    "\n",
    "while True:\n",
    "  result=client.get_read_result(operationId)\n",
    "  if result.status not in ['notStarted','running']:\n",
    "    break\n",
    "  time.sleep(1)"
   ]
  },
  {
   "cell_type": "code",
   "execution_count": 10,
   "id": "79c6c96b",
   "metadata": {},
   "outputs": [
    {
     "data": {
      "text/plain": [
       "<OperationStatusCodes.succeeded: 'succeeded'>"
      ]
     },
     "execution_count": 10,
     "metadata": {},
     "output_type": "execute_result"
    }
   ],
   "source": [
    "result.status"
   ]
  },
  {
   "cell_type": "code",
   "execution_count": 11,
   "id": "ea3cc4cb",
   "metadata": {},
   "outputs": [
    {
     "name": "stdout",
     "output_type": "stream",
     "text": [
      "Indian Union Driving Licence\n",
      "Issued by Telangana State\n",
      "TS\n",
      "TS03020230006087\n",
      "Issue Date Validity(NT) Validity(TR)\n",
      "11/12/2023 06/09/2040 00/00/0000\n",
      "..\n",
      "Name : G YASHWANTH KUMAR\n",
      "Holder's Signatura\n",
      "11/12/2023\n",
      "Date Of Birth :06/09/2000 Blood Group :\n",
      "Organ Donor :\n",
      "Son/Daughter/Wife of : CHOWDAIAH\n",
      "Address :\n",
      "5-348/4\n",
      "RATHNA NAGAR\n",
      "Date of First Issue\n",
      "CHIOUTUPPAL, CHOUTURPAL, YADADAI - 508252\n"
     ]
    }
   ],
   "source": [
    "if result.status==OperationStatusCodes.succeeded:\n",
    "  for line in result.analyze_result.read_results[0].lines:\n",
    "    print(line.text)"
   ]
  },
  {
   "cell_type": "code",
   "execution_count": null,
   "id": "4e78fa32",
   "metadata": {},
   "outputs": [],
   "source": []
  },
  {
   "cell_type": "code",
   "execution_count": null,
   "id": "3d83a185",
   "metadata": {},
   "outputs": [],
   "source": []
  }
 ],
 "metadata": {
  "kernelspec": {
   "display_name": "base",
   "language": "python",
   "name": "python3"
  },
  "language_info": {
   "codemirror_mode": {
    "name": "ipython",
    "version": 3
   },
   "file_extension": ".py",
   "mimetype": "text/x-python",
   "name": "python",
   "nbconvert_exporter": "python",
   "pygments_lexer": "ipython3",
   "version": "3.12.3"
  }
 },
 "nbformat": 4,
 "nbformat_minor": 5
}
